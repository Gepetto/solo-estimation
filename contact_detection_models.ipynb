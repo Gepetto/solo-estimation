{
 "cells": [
  {
   "cell_type": "code",
   "execution_count": 63,
   "metadata": {},
   "outputs": [],
   "source": [
    "import numpy as np\n",
    "from scipy import interpolate\n",
    "from scipy.signal import find_peaks\n",
    "from matplotlib import pyplot as plt\n",
    "from analyse_contacts_ref import read_expe1, read_expe2, read_expe3, ground_truth\n",
    "import sklearn\n",
    "%matplotlib notebook"
   ]
  },
  {
   "cell_type": "markdown",
   "metadata": {},
   "source": [
    "# read datasets"
   ]
  },
  {
   "cell_type": "code",
   "execution_count": 112,
   "metadata": {},
   "outputs": [],
   "source": [
    "t_arr1, mocapd1, measd1 = read_expe1()\n",
    "t_arr2, mocapd2, measd2 = read_expe2()\n",
    "t_arr3, mocapd3, measd3 = read_expe3()\n",
    "N1 = len(t_arr1)\n",
    "N2 = len(t_arr2)\n",
    "N3 = len(t_arr3)"
   ]
  },
  {
   "cell_type": "code",
   "execution_count": 65,
   "metadata": {},
   "outputs": [],
   "source": [
    "# features in "
   ]
  },
  {
   "cell_type": "markdown",
   "metadata": {},
   "source": [
    "# create ground truth"
   ]
  },
  {
   "cell_type": "code",
   "execution_count": 66,
   "metadata": {},
   "outputs": [],
   "source": [
    "# to get ground truth :\n",
    "# - foot height\n",
    "# - foot velocity\n",
    "\n",
    "# to obtain:  \n",
    "# height with respect to previous lowest height"
   ]
  },
  {
   "cell_type": "code",
   "execution_count": 67,
   "metadata": {},
   "outputs": [],
   "source": [
    "y1 = ground_truth(mocapd1['FL'][:,2])\n",
    "y2 = ground_truth(mocapd2['FL'][:,2])\n",
    "y3 = ground_truth(mocapd3['FL'][:,2])"
   ]
  },
  {
   "cell_type": "raw",
   "metadata": {},
   "source": [
    "plt.figure('ground truth 1')\n",
    "plt.plot(t_arr3, mocapd3['FL'][:,2], \"r\", linewidth=3)\n",
    "tmp = mocapd3['FL'][:,2].copy()\n",
    "tmp[y3.astype(bool)] = np.nan\n",
    "plt.plot(t_arr3, tmp, \"g\", linewidth=3)\n",
    "plt.xlabel(\"Time [s]\")\n",
    "plt.ylabel(\"Mocap foot pos Z [mm]\")"
   ]
  },
  {
   "cell_type": "markdown",
   "metadata": {},
   "source": [
    "# KNN"
   ]
  },
  {
   "cell_type": "code",
   "execution_count": 68,
   "metadata": {},
   "outputs": [],
   "source": [
    "from sklearn.neighbors import KNeighborsClassifier"
   ]
  },
  {
   "cell_type": "code",
   "execution_count": 69,
   "metadata": {},
   "outputs": [],
   "source": [
    "# data\n",
    "X1 = np.zeros((len(t_arr1), 3))\n",
    "X1[:, 0:3] = measd1['tau'][:, 0:3]  # FL .. .. ..\n",
    "\n",
    "X2 = np.zeros((len(t_arr1), 3))\n",
    "X2[:, 0:3] = measd1['tau'][:, 0:3]  # FL .. .. .."
   ]
  },
  {
   "cell_type": "code",
   "execution_count": 70,
   "metadata": {},
   "outputs": [],
   "source": [
    "clf = KNeighborsClassifier(n_neighbors=2)"
   ]
  },
  {
   "cell_type": "code",
   "execution_count": 71,
   "metadata": {},
   "outputs": [
    {
     "data": {
      "text/plain": [
       "KNeighborsClassifier(n_neighbors=2)"
      ]
     },
     "execution_count": 71,
     "metadata": {},
     "output_type": "execute_result"
    }
   ],
   "source": [
    "clf.fit(X1, y1)"
   ]
  },
  {
   "cell_type": "code",
   "execution_count": 72,
   "metadata": {},
   "outputs": [
    {
     "data": {
      "text/plain": [
       "array([0, 0, 0, ..., 0, 0, 0])"
      ]
     },
     "execution_count": 72,
     "metadata": {},
     "output_type": "execute_result"
    }
   ],
   "source": [
    "clf.predict(X2)"
   ]
  },
  {
   "cell_type": "code",
   "execution_count": null,
   "metadata": {},
   "outputs": [],
   "source": []
  },
  {
   "cell_type": "markdown",
   "metadata": {},
   "source": [
    "# SVC"
   ]
  },
  {
   "cell_type": "code",
   "execution_count": 84,
   "metadata": {},
   "outputs": [],
   "source": [
    "from sklearn.model_selection import cross_val_score"
   ]
  },
  {
   "cell_type": "code",
   "execution_count": 85,
   "metadata": {},
   "outputs": [],
   "source": [
    "C = 0.01 # SVM regularization parameter\n",
    "n_components = 2\n",
    "estimators = [('scaler', sklearn.preprocessing.StandardScaler()),\n",
    "              ('reduce_dim', sklearn.decomposition.IncrementalPCA(n_components=n_components, batch_size=100)),\n",
    "              ('clf', sklearn.svm.SVC(kernel='linear', C=C))]\n",
    "pca_svc_clf = sklearn.pipeline.Pipeline(estimators)\n",
    "\n",
    "estimators = [('scaler', sklearn.preprocessing.StandardScaler()),\n",
    "              ('clf', sklearn.svm.SVC(kernel='linear', C=C))]\n",
    "svc_clf = sklearn.pipeline.Pipeline(estimators)"
   ]
  },
  {
   "cell_type": "raw",
   "metadata": {},
   "source": [
    "X1 = np.zeros((len(t_arr1), 3))\n",
    "X1[:, 0:3] = measd1['tau'][:, 0:3]  # FL .. .. ..\n",
    "\n",
    "X2 = np.zeros((len(t_arr2), 3))\n",
    "X2[:, 0:3] = measd1['tau'][:, 0:3]  # FL .. .. ..\n",
    "\n",
    "X3 = np.zeros((len(t_arr3), 3))\n",
    "X3[:, 0:3] = measd1['tau'][:, 0:3]  # FL .. .. ..\n",
    "\n"
   ]
  },
  {
   "cell_type": "code",
   "execution_count": 125,
   "metadata": {},
   "outputs": [],
   "source": [
    "X1 = np.zeros((len(t_arr1), 6))\n",
    "X1[:, 0:3] = measd1['tau'][:, 0:3]  # FL .. .. ..\n",
    "X1[:, 0:3] = measd1['qa'][:, 0:3]  # FL .. .. ..\n",
    "\n",
    "X2 = np.zeros((len(t_arr2), 6))\n",
    "X2[:, 0:3] = measd1['tau'][:, 0:3]  # FL .. .. ..\n",
    "X2[:, 0:3] = measd1['qa'][:, 0:3]  # FL .. .. ..\n",
    "\n",
    "X3 = np.zeros((len(t_arr3), 6))\n",
    "X3[:, 0:3] = measd1['tau'][:, 0:3]  # FL .. .. ..\n",
    "X3[:, 0:3] = measd1['qa'][:, 0:3]  # FL .. .. ..\n",
    "\n"
   ]
  },
  {
   "cell_type": "code",
   "execution_count": 126,
   "metadata": {},
   "outputs": [],
   "source": [
    "scores_pca_svc = cross_val_score(pca_svc_clf, X1, y1, cv=5)\n",
    "scores_svc = cross_val_score(svc_clf, X1, y1, cv=5)"
   ]
  },
  {
   "cell_type": "code",
   "execution_count": 124,
   "metadata": {},
   "outputs": [
    {
     "name": "stdout",
     "output_type": "stream",
     "text": [
      "0.8711666666666666 0.006176793486735471\n",
      "0.9008333333333333 0.004533823502911809\n"
     ]
    }
   ],
   "source": [
    "print(scores_pca_svc.mean(), scores_pca_svc.std())\n",
    "print(scores_svc.mean(), scores_svc.std())"
   ]
  },
  {
   "cell_type": "code",
   "execution_count": 127,
   "metadata": {},
   "outputs": [
    {
     "name": "stdout",
     "output_type": "stream",
     "text": [
      "0.9731666666666665 0.004390646624106486\n",
      "0.9753333333333332 0.004119735698102746\n"
     ]
    }
   ],
   "source": [
    "print(scores_pca_svc.mean(), scores_pca_svc.std())\n",
    "print(scores_svc.mean(), scores_svc.std())"
   ]
  },
  {
   "cell_type": "code",
   "execution_count": 105,
   "metadata": {},
   "outputs": [
    {
     "data": {
      "text/plain": [
       "Pipeline(steps=[('scaler', StandardScaler()),\n",
       "                ('clf', SVC(C=0.01, kernel='linear'))])"
      ]
     },
     "execution_count": 105,
     "metadata": {},
     "output_type": "execute_result"
    }
   ],
   "source": [
    "pca_svc_clf.fit(X1, y1)\n",
    "svc_clf.fit(X1, y1)"
   ]
  },
  {
   "cell_type": "code",
   "execution_count": 106,
   "metadata": {},
   "outputs": [],
   "source": [
    "# Test sets\n",
    "y2_pred_pca_svc = pca_svc_clf.predict(X2)\n",
    "y3_pred_pca_svc = pca_svc_clf.predict(X3)\n",
    "\n",
    "y2_pred_svc = svc_clf.predict(X2)\n",
    "y3_pred_svc = svc_clf.predict(X3)"
   ]
  },
  {
   "cell_type": "code",
   "execution_count": 110,
   "metadata": {},
   "outputs": [
    {
     "name": "stdout",
     "output_type": "stream",
     "text": [
      "0.9453809844908968\n",
      "0.9339601522274457\n",
      "0.9445442299057027\n",
      "0.9306797853309481\n"
     ]
    }
   ],
   "source": [
    "print(sklearn.metrics.f1_score(y2_pred_pca_svc, y2))\n",
    "print(sklearn.metrics.f1_score(y3_pred_pca_svc, y3))\n",
    "print(sklearn.metrics.f1_score(y2_pred_svc, y2))\n",
    "print(sklearn.metrics.f1_score(y3_pred_svc, y3))"
   ]
  },
  {
   "cell_type": "code",
   "execution_count": 113,
   "metadata": {},
   "outputs": [
    {
     "name": "stdout",
     "output_type": "stream",
     "text": [
      "[[60.9    3.575]\n",
      " [ 0.475 35.05 ]]\n",
      "[[60.31666667  4.15833333]\n",
      " [ 0.75833333 34.76666667]]\n",
      "[[60.825       3.56666667]\n",
      " [ 0.55       35.05833333]]\n",
      "[[60.15        4.24166667]\n",
      " [ 0.925      34.68333333]]\n"
     ]
    }
   ],
   "source": [
    "print(sklearn.metrics.confusion_matrix(y2_pred_pca_svc, y2)*100/N2)\n",
    "print(sklearn.metrics.confusion_matrix(y3_pred_pca_svc, y3)*100/N3)\n",
    "print(sklearn.metrics.confusion_matrix(y2_pred_svc, y2)*100/N2)\n",
    "print(sklearn.metrics.confusion_matrix(y3_pred_svc, y3)*100/N3)"
   ]
  },
  {
   "cell_type": "code",
   "execution_count": 121,
   "metadata": {},
   "outputs": [
    {
     "name": "stdout",
     "output_type": "stream",
     "text": [
      "194 µs ± 19.8 µs per loop (mean ± std. dev. of 7 runs, 1000 loops each)\n"
     ]
    }
   ],
   "source": [
    "%%timeit\n",
    "pca_svc_clf.predict(X2[2,:].reshape((1,6)))"
   ]
  },
  {
   "cell_type": "code",
   "execution_count": null,
   "metadata": {},
   "outputs": [],
   "source": []
  }
 ],
 "metadata": {
  "kernelspec": {
   "display_name": "Python 3.5.2 64-bit",
   "language": "python",
   "name": "python35264bit78a64c4ff0d34c07a3fe962b68830e72"
  },
  "language_info": {
   "codemirror_mode": {
    "name": "ipython",
    "version": 3
   },
   "file_extension": ".py",
   "mimetype": "text/x-python",
   "name": "python",
   "nbconvert_exporter": "python",
   "pygments_lexer": "ipython3",
   "version": "3.6.9"
  }
 },
 "nbformat": 4,
 "nbformat_minor": 4
}
